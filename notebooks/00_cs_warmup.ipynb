{
 "cells": [
  {
   "cell_type": "code",
   "execution_count": null,
   "metadata": {
    "vscode": {
     "languageId": "plaintext"
    }
   },
   "outputs": [],
   "source": [
    "# CS Warmup: Implementing a Trie from Scratch\n",
    "\n",
    "This notebook contains the implementation of a Trie data structure, a core component of **Commit 2** in the Architect's Manifesto.\n"
   ]
  },
  {
   "cell_type": "code",
   "execution_count": 9,
   "metadata": {},
   "outputs": [],
   "source": [
    "class TrieNode:\n",
    "    def __init__(self):\n",
    "        # The 'children' attribute is a dictionary that maps a character (string) \n",
    "        # to a TrieNode object.\n",
    "        self.children = {}\n",
    "        \n",
    "        # The 'is_end_of_word' flag indicates if a node represents the end of a \n",
    "        # complete word inserted into the Trie.\n",
    "        self.is_end_of_word = False\n",
    "\n",
    "class Trie:\n",
    "    def __init__(self):\n",
    "        \"\"\"\n",
    "        Initializes the Trie data structure.\n",
    "        \"\"\"\n",
    "        self.root = TrieNode()\n",
    "\n",
    "    def insert(self, word: str) -> None:\n",
    "        \"\"\"\n",
    "        Inserts a word into the trie.\n",
    "        \"\"\"\n",
    "        # Shahab, your implementation goes here.\n",
    "        current_node = self.root\n",
    "        for char in word:\n",
    "            if char in current_node.children:\n",
    "                current_node = current_node.children[char]\n",
    "            else:\n",
    "                current_node.children[char] = TrieNode()\n",
    "                current_node = current_node.children[char]\n",
    "        current_node.is_end_of_word = True\n",
    "\n",
    "    def search(self, word: str) -> bool:\n",
    "        \"\"\"\n",
    "        Returns if the word is in the trie.\n",
    "        \"\"\"\n",
    "        # Shahab, your implementation goes here.\n",
    "        current_node = self.root\n",
    "        for char in word:\n",
    "            if char in current_node.children:\n",
    "                current_node = current_node.children[char]\n",
    "            else:\n",
    "                return False\n",
    "        if current_node.is_end_of_word == True:\n",
    "            return True\n",
    "        else:\n",
    "            return False\n",
    "\n",
    "    def startsWith(self, prefix: str) -> bool:\n",
    "        \"\"\"\n",
    "        Returns if there is any word in the trie that starts with the given prefix.\n",
    "        \"\"\"\n",
    "        # Shahab, your implementation goes here.\n",
    "        current_node = self.root\n",
    "        for char in prefix:\n",
    "            if char in current_node.children:\n",
    "                current_node = current_node.children[char]\n",
    "            else:\n",
    "                return False\n",
    "        return True"
   ]
  },
  {
   "cell_type": "code",
   "execution_count": 10,
   "metadata": {},
   "outputs": [
    {
     "name": "stdout",
     "output_type": "stream",
     "text": [
      "Inserting 'apple'\n",
      "Search for 'apple': True\n",
      "Search for 'app': False\n",
      "Starts with 'app': True\n",
      "\n",
      "Inserting 'app'\n",
      "Search for 'app': True\n"
     ]
    }
   ],
   "source": [
    "# --- Verification ---\n",
    "# You can use this section to test your implementation.\n",
    "\n",
    "trie = Trie()\n",
    "\n",
    "print(\"Inserting 'apple'\")\n",
    "trie.insert(\"apple\")\n",
    "print(\"Search for 'apple':\", trie.search(\"apple\"))  # Expected: True\n",
    "print(\"Search for 'app':\", trie.search(\"app\"))    # Expected: False\n",
    "print(\"Starts with 'app':\", trie.startsWith(\"app\")) # Expected: True\n",
    "\n",
    "print(\"\\nInserting 'app'\")\n",
    "trie.insert(\"app\")\n",
    "print(\"Search for 'app':\", trie.search(\"app\"))    # Expected: True\n"
   ]
  },
  {
   "cell_type": "code",
   "execution_count": null,
   "metadata": {},
   "outputs": [],
   "source": []
  }
 ],
 "metadata": {
  "kernelspec": {
   "display_name": "Python 3 (ipykernel)",
   "language": "python",
   "name": "python3"
  },
  "language_info": {
   "codemirror_mode": {
    "name": "ipython",
    "version": 3
   },
   "file_extension": ".py",
   "mimetype": "text/x-python",
   "name": "python",
   "nbconvert_exporter": "python",
   "pygments_lexer": "ipython3",
   "version": "3.13.3"
  }
 },
 "nbformat": 4,
 "nbformat_minor": 4
}
